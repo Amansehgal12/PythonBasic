{
  "nbformat": 4,
  "nbformat_minor": 0,
  "metadata": {
    "colab": {
      "provenance": []
    },
    "kernelspec": {
      "name": "python3",
      "display_name": "Python 3"
    },
    "language_info": {
      "name": "python"
    }
  },
  "cells": [
    {
      "cell_type": "markdown",
      "source": [
        "***PythonBasics_Assignment1***\n",
        "\n",
        "**Q1- What is Python, and why is it popular?**\n",
        "      -Python is a high-level, interpreted programming language known for its simplicity, readability, and versatility.\n",
        "      It is popular because -\n",
        "      a)it is easy to learn.\n",
        "      b)It supports huge set of libraries.  \n",
        "\n",
        "**Q2- What is an interpreter in Python**\n",
        "      -An interpreter is a program that reads and executes Python code line-by-line.\n",
        "\n",
        "**Q3- What are pre-defined keywords in Python**\n",
        "      -Pre-defined keywords in Python are reserved words that have special meaning and purpose in the language. These keywords are built-in and are used to define the syntax and structure of Python programs.\n",
        "      Example - If, Else, Elif, For, While.\n",
        "\n",
        "**Q4- Can keywords be used as variable names**\n",
        "      -No, keywords cannot be used as variable names in Python.\n",
        "\n",
        "**Q5- What is mutability in Python**\n",
        "      -Mutability in python refers that if the content of an obejct can be modified or not once it has been defined.\n",
        "    \n",
        "**Q6- Why are lists mutable, but tuples are immutable**\n",
        "      - Lists are used when the data needs to be modified, such as adding, removing, or changing elements.On the other hand, tuples are designed to store fixed, unchangeable data, which helps in maintaining data integrity and improving performance.\n",
        "\n",
        "**Q7- What is the difference between “==” and “is” operators in Python**\n",
        "      - In Python, the “==” operator is used to compare the values of two objects to check if they are equal, while the “is” operator checks whether two objects refer to the same memory location.\n",
        "\n",
        "**Q8- What are logical operators in Python**\n",
        "      -In Python, logical operators are used to perform logical operations on values or expressions. They are - And, Or, Not.\n",
        "\n",
        "**Q9- What is type casting in Python**\n",
        "      -Type casting in Python refers to the process of converting one data type into another.There are two types of type casting in Python:\n",
        "      a)Implicit- It automatically converts one data type to another when it is needed.\n",
        "      b)Explicit- This requires us to explicitly convert one data type to another using Python's built-in functions.\n",
        "\n",
        "**Q10- What is the difference between implicit and explicit type casting**\n",
        "      a)Implicit- It automatically converts one data type to another when it is needed.\n",
        "      b)Explicit- This requires us to explicitly convert one data type to another using Python's built-in functions.\n",
        "\n",
        "**Q11- What is the purpose of conditional statements in Python**\n",
        "      -The purpose of conditional statements in Python is to allow the program to make decisions based on certain conditions. They enable the program to execute different blocks of code depending on whether a specified condition evaluates to True or False.\n",
        "      Types - If, Else, Elif\n",
        "\n",
        "**Q12- How does the elif statement work**\n",
        "      -It allows to check multiple conditions in sequence, providing a way to handle multiple possible outcomes for a given condition. It is used in combination with the if statement to evaluate multiple expressions, where each condition is checked only if the previous conditions are False.\n",
        "\n",
        "**Q13- What is the difference between for and while loops**\n",
        "      -The for loop is used when we have a known number of iterations or need to iterate over a sequence (like a list, tuple, string, or range).It automatically retrieves the elements of the sequence one by one and executes the block of code for each element.\n",
        "      - The while loop runs as long as a given condition is True. It is useful when we don't know in advance how many times the loop should run but want to continue looping until a certain condition is met.The condition is checked before each iteration, and if it evaluates to True, the block of code inside the loop will execute. The loop continues until the condition becomes False.\n",
        "\n",
        "**Q14- Describe a scenario where a while loop is more suitable than a for loop.**\n",
        "      -A while loop is more suitable than a for loop when the number of iterations is unknown beforehand and want to continue looping until a specific condition is met.\n"
      ],
      "metadata": {
        "id": "5UkschzdsHtt"
      }
    },
    {
      "cell_type": "code",
      "source": [
        "\n",
        "# Q1- Write a Python program to print \"Hello, World!\n",
        "print(\"hello World\")"
      ],
      "metadata": {
        "colab": {
          "base_uri": "https://localhost:8080/"
        },
        "id": "5UT_vBt7sX9E",
        "outputId": "38026843-18e9-4bfb-bf32-f088daea2242"
      },
      "execution_count": null,
      "outputs": [
        {
          "output_type": "stream",
          "name": "stdout",
          "text": [
            "hello World\n"
          ]
        }
      ]
    },
    {
      "cell_type": "code",
      "source": [
        "#Q2- Write a Python program that displays your name and age\n",
        "name = \"Aman\"\n",
        "age =24\n",
        "print (f\"My Name is {name} and my age is {age} years\")"
      ],
      "metadata": {
        "colab": {
          "base_uri": "https://localhost:8080/"
        },
        "id": "l8saKEnZ8MSy",
        "outputId": "3b7e057c-691d-45f7-ccaf-729782c6a66d"
      },
      "execution_count": null,
      "outputs": [
        {
          "output_type": "stream",
          "name": "stdout",
          "text": [
            "My Name is Aman and my age is 24 years\n"
          ]
        }
      ]
    },
    {
      "cell_type": "code",
      "source": [
        "#Q3- Write code to print all the pre-defined keywords in Python using the keyword library\n",
        "import keyword\n",
        "\n",
        "print(\"Python Keywords:\")\n",
        "print(keyword.kwlist)"
      ],
      "metadata": {
        "colab": {
          "base_uri": "https://localhost:8080/"
        },
        "id": "TcYHQ18f-woz",
        "outputId": "ba48b36b-0513-4a65-d24e-7c23f50bcdd3"
      },
      "execution_count": null,
      "outputs": [
        {
          "output_type": "stream",
          "name": "stdout",
          "text": [
            "Python Keywords:\n",
            "['False', 'None', 'True', 'and', 'as', 'assert', 'async', 'await', 'break', 'class', 'continue', 'def', 'del', 'elif', 'else', 'except', 'finally', 'for', 'from', 'global', 'if', 'import', 'in', 'is', 'lambda', 'nonlocal', 'not', 'or', 'pass', 'raise', 'return', 'try', 'while', 'with', 'yield']\n"
          ]
        }
      ]
    },
    {
      "cell_type": "code",
      "source": [
        "#Q4- Write a program that checks if a given word is a Python keyword.\n",
        "import keyword\n",
        "\n",
        "word=input(\"Enter a keyword\")\n",
        "if keyword.iskeyword(word):\n",
        "  print(f\"{word} is a keyword\")\n",
        "else:\n",
        "  print(f\"{word} is NOT a keyword\")"
      ],
      "metadata": {
        "colab": {
          "base_uri": "https://localhost:8080/"
        },
        "id": "PY1ymkbR_vSK",
        "outputId": "a41bab4e-ca3d-47dd-dec7-fff4d4047161"
      },
      "execution_count": null,
      "outputs": [
        {
          "output_type": "stream",
          "name": "stdout",
          "text": [
            "Enter a keywordwhile\n",
            "while is a keyword\n"
          ]
        }
      ]
    },
    {
      "cell_type": "code",
      "source": [
        "#Q5- Create a list and tuple in Python, and demonstrate how attempting to change an element works differently for each.\n",
        "my_list=[10, 20, 30]\n",
        "my_tupple = (100, 200, 300)\n",
        "#updating list\n",
        "my_list[1]=88\n",
        "print(my_list)\n",
        "#updating tupple\n",
        "my_tupple[1]=66\n",
        "print(my_tupple)\n"
      ],
      "metadata": {
        "colab": {
          "base_uri": "https://localhost:8080/",
          "height": 216
        },
        "id": "VxL1hrhkHbvE",
        "outputId": "22a912d1-c214-49f1-b0ed-d70dd47eed16"
      },
      "execution_count": null,
      "outputs": [
        {
          "output_type": "stream",
          "name": "stdout",
          "text": [
            "[10, 88, 30]\n"
          ]
        },
        {
          "output_type": "error",
          "ename": "TypeError",
          "evalue": "'tuple' object does not support item assignment",
          "traceback": [
            "\u001b[0;31m---------------------------------------------------------------------------\u001b[0m",
            "\u001b[0;31mTypeError\u001b[0m                                 Traceback (most recent call last)",
            "\u001b[0;32m<ipython-input-14-81eaf8f2ba29>\u001b[0m in \u001b[0;36m<cell line: 0>\u001b[0;34m()\u001b[0m\n\u001b[1;32m      6\u001b[0m \u001b[0mprint\u001b[0m\u001b[0;34m(\u001b[0m\u001b[0mmy_list\u001b[0m\u001b[0;34m)\u001b[0m\u001b[0;34m\u001b[0m\u001b[0;34m\u001b[0m\u001b[0m\n\u001b[1;32m      7\u001b[0m \u001b[0;31m#updating tupple\u001b[0m\u001b[0;34m\u001b[0m\u001b[0;34m\u001b[0m\u001b[0m\n\u001b[0;32m----> 8\u001b[0;31m \u001b[0mmy_tupple\u001b[0m\u001b[0;34m[\u001b[0m\u001b[0;36m1\u001b[0m\u001b[0;34m]\u001b[0m\u001b[0;34m=\u001b[0m\u001b[0;36m66\u001b[0m\u001b[0;34m\u001b[0m\u001b[0;34m\u001b[0m\u001b[0m\n\u001b[0m\u001b[1;32m      9\u001b[0m \u001b[0mprint\u001b[0m\u001b[0;34m(\u001b[0m\u001b[0mmy_tupple\u001b[0m\u001b[0;34m)\u001b[0m\u001b[0;34m\u001b[0m\u001b[0;34m\u001b[0m\u001b[0m\n",
            "\u001b[0;31mTypeError\u001b[0m: 'tuple' object does not support item assignment"
          ]
        }
      ]
    },
    {
      "cell_type": "code",
      "source": [
        "#Q6 - Write a function to demonstrate the behavior of mutable and immutable arguments.\n"
      ],
      "metadata": {
        "id": "JzAgCFAfKB45"
      },
      "execution_count": null,
      "outputs": []
    },
    {
      "cell_type": "code",
      "source": [
        " #Q7- Write a program that performs basic arithmetic operations on two user-input numbers\n",
        " a=float(input(\"Enter a number \"))\n",
        " b=float(input(\"Enter another number \"))\n",
        " sum= a+b\n",
        " print(f\"sum is {sum}\")\n",
        " sub= a-b\n",
        " print(f\"subt is {sub}\")\n",
        " mul=a*b\n",
        " print(f\"multiply is {mul}\")\n",
        " Div= a/b\n",
        " print(f\"divison is {Div}\")"
      ],
      "metadata": {
        "colab": {
          "base_uri": "https://localhost:8080/"
        },
        "id": "FUF6RCQTL979",
        "outputId": "5e5fcb20-3824-4971-e71c-fa1f34ea02c0"
      },
      "execution_count": null,
      "outputs": [
        {
          "output_type": "stream",
          "name": "stdout",
          "text": [
            "Enter a number 5\n",
            "Enter another number 4\n",
            "sum is 9.0\n",
            "subt is 1.0\n",
            "multiply is 20.0\n",
            "divison is 1.25\n"
          ]
        }
      ]
    },
    {
      "cell_type": "code",
      "source": [
        " #Q8 - Write a program to demonstrate the use of logical operators.\n",
        "\n",
        "a = 10\n",
        "b = 5\n",
        "\n",
        "print(a > 5 and b < 10)\n",
        "print(a < 5 or b < 10)\n",
        "print(not(a == 10))\n"
      ],
      "metadata": {
        "colab": {
          "base_uri": "https://localhost:8080/"
        },
        "id": "omW-NvhPNPh3",
        "outputId": "2f9fc0c4-96a0-4f88-8ed1-df8ba090d980"
      },
      "execution_count": null,
      "outputs": [
        {
          "output_type": "stream",
          "name": "stdout",
          "text": [
            "True\n",
            "True\n",
            "False\n"
          ]
        }
      ]
    },
    {
      "cell_type": "code",
      "source": [
        "#Q9- Write a Python program to convert user input from string to integer, float, and boolean types.\n",
        "my_input= input(\"Enter anything\")\n",
        "try:\n",
        "  integer_change = int(my_input)\n",
        "  print(integer_change)\n",
        "except:\n",
        "  print(\"Cannot be converted\")"
      ],
      "metadata": {
        "colab": {
          "base_uri": "https://localhost:8080/"
        },
        "id": "v55CZnimQeBd",
        "outputId": "a743d8e7-a9e5-469e-e6c9-a15101ee87fe"
      },
      "execution_count": null,
      "outputs": [
        {
          "output_type": "stream",
          "name": "stdout",
          "text": [
            "Enter anything33.3\n",
            "Cannot be converted\n"
          ]
        }
      ]
    },
    {
      "cell_type": "code",
      "source": [
        "#Q10-  Write code to demonstrate type casting with list elements\n",
        "str_list=[\"10\", \"20\", \"30\"]\n",
        "int_list= [int(x) for x in str_list]\n",
        "print(int_list)\n",
        "\n",
        "float_list=[float(x) for x in str_list]\n",
        "print(float_list)"
      ],
      "metadata": {
        "colab": {
          "base_uri": "https://localhost:8080/"
        },
        "id": "XNwskYg_TDL7",
        "outputId": "36870e5f-97bd-4a52-df47-d4a84156d89a"
      },
      "execution_count": null,
      "outputs": [
        {
          "output_type": "stream",
          "name": "stdout",
          "text": [
            "[10, 20, 30]\n",
            "[10.0, 20.0, 30.0]\n"
          ]
        }
      ]
    },
    {
      "cell_type": "code",
      "source": [
        "#Q11 -  Write a program that checks if a number is positive, negative, or zero.\n",
        "my_number=int(input(\"Enter the number\"))\n",
        "if my_number>0:\n",
        "  print(\"possitive number\")\n",
        "elif my_number<0:\n",
        "  print(\"Negative number\")\n",
        "else:\n",
        "  print(\"Number is zero\")"
      ],
      "metadata": {
        "colab": {
          "base_uri": "https://localhost:8080/"
        },
        "id": "TrRF58pvWJZL",
        "outputId": "0001c815-3604-4fe5-9bb9-da6def47f77c"
      },
      "execution_count": null,
      "outputs": [
        {
          "output_type": "stream",
          "name": "stdout",
          "text": [
            "Enter the number0\n",
            "Number is zero\n"
          ]
        }
      ]
    },
    {
      "cell_type": "code",
      "source": [
        "#Q12- Write a for loop to print numbers from 1 to 10.\n",
        "for num in range(1,11):\n",
        "  print(num)"
      ],
      "metadata": {
        "colab": {
          "base_uri": "https://localhost:8080/"
        },
        "id": "Sgs0NqqrWuE8",
        "outputId": "42da1982-fd0a-49a1-e899-c8fcc7a605dc"
      },
      "execution_count": null,
      "outputs": [
        {
          "output_type": "stream",
          "name": "stdout",
          "text": [
            "1\n",
            "2\n",
            "3\n",
            "4\n",
            "5\n",
            "6\n",
            "7\n",
            "8\n",
            "9\n",
            "10\n"
          ]
        }
      ]
    },
    {
      "cell_type": "code",
      "source": [
        "#Q13- Write a Python program to find the sum of all even numbers between 1 and 50\n",
        "sum=0\n",
        "for num in range(1,51):\n",
        "  if num%2==0:\n",
        "    sum+=num\n",
        "print(sum)"
      ],
      "metadata": {
        "colab": {
          "base_uri": "https://localhost:8080/"
        },
        "id": "mKT7ZJlUXca-",
        "outputId": "78f2f996-dc72-4ce0-ed24-084ff1de9c69"
      },
      "execution_count": null,
      "outputs": [
        {
          "output_type": "stream",
          "name": "stdout",
          "text": [
            "650\n"
          ]
        }
      ]
    },
    {
      "cell_type": "code",
      "source": [
        "#Q14- Write a program to reverse a string using a while loop.\n",
        "my_str=input(\"Enter any word \")\n",
        "rev_str=\"\"\n",
        "index=len(my_str) - 1\n",
        "while index>=0:\n",
        "  rev_str= rev_str + my_str[index]\n",
        "  index= index- 1\n",
        "print(rev_str)\n",
        "\n",
        "\n"
      ],
      "metadata": {
        "id": "1xj322B4XuUr",
        "colab": {
          "base_uri": "https://localhost:8080/"
        },
        "outputId": "78ba20ab-0b8c-48d6-c750-8d6714f0b432"
      },
      "execution_count": 63,
      "outputs": [
        {
          "output_type": "stream",
          "name": "stdout",
          "text": [
            "Enter any word ajay\n",
            "yaja\n"
          ]
        }
      ]
    },
    {
      "cell_type": "code",
      "source": [
        "#Q15 - Write a Python program to calculate the factorial of a number provided by the user using a while loop.\n",
        "num = int(input(\"Enter a number: \"))\n",
        "factorial = 1\n",
        "i = 1\n",
        "\n",
        "if num < 0:\n",
        "    print(\"Factorial is not defined for negative numbers.\")\n",
        "else:\n",
        "    while i <= num:\n",
        "        factorial = factorial * i\n",
        "        i = i + 1\n",
        "\n",
        "    print(\"Factorial of\", num, \"is:\", factorial)\n"
      ],
      "metadata": {
        "colab": {
          "base_uri": "https://localhost:8080/"
        },
        "id": "dOLltnfxk0ni",
        "outputId": "6ea50263-5ca3-4158-e043-024a9a6cb42f"
      },
      "execution_count": 64,
      "outputs": [
        {
          "output_type": "stream",
          "name": "stdout",
          "text": [
            "Enter a number: 5\n",
            "Factorial of 5 is: 120\n"
          ]
        }
      ]
    },
    {
      "cell_type": "code",
      "source": [],
      "metadata": {
        "id": "cNBkD0gfqgez"
      },
      "execution_count": null,
      "outputs": []
    }
  ]
}